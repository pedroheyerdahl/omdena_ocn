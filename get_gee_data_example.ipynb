{
  "nbformat": 4,
  "nbformat_minor": 0,
  "metadata": {
    "colab": {
      "name": "get_gee_data_example.ipynb",
      "provenance": [],
      "authorship_tag": "ABX9TyO4vmEZ5qYwC+O8hl4hRR5i",
      "include_colab_link": true
    },
    "kernelspec": {
      "name": "python3",
      "display_name": "Python 3"
    },
    "language_info": {
      "name": "python"
    }
  },
  "cells": [
    {
      "cell_type": "markdown",
      "metadata": {
        "id": "view-in-github",
        "colab_type": "text"
      },
      "source": [
        "<a href=\"https://colab.research.google.com/github/pedroheyerdahl/omdena_ocn/blob/main/get_gee_data_example.ipynb\" target=\"_parent\"><img src=\"https://colab.research.google.com/assets/colab-badge.svg\" alt=\"Open In Colab\"/></a>"
      ]
    },
    {
      "cell_type": "markdown",
      "metadata": {
        "id": "2ldwBsItjZmn"
      },
      "source": [
        "Installing packages"
      ]
    },
    {
      "cell_type": "markdown",
      "metadata": {
        "id": "w7QDqJ1ljrKw"
      },
      "source": [
        "#Downloading Google Earth Engine data to Google Drive"
      ]
    },
    {
      "cell_type": "markdown",
      "metadata": {
        "id": "RjZmsLpbq-KM"
      },
      "source": [
        "This notebook is intended as a quick start for those wanting to download data from GEE. It uses the code kindly provided by @Matteo Jucker in https://gist.github.com/ciskoh/fc0913bc9fed068ce42d26e07a87ec60"
      ]
    },
    {
      "cell_type": "markdown",
      "metadata": {
        "id": "7k3pq7kLj7qp"
      },
      "source": [
        "First we need to install geetools, since Matteo's code uses this package, and it doesn't come preinstalled on Colab"
      ]
    },
    {
      "cell_type": "code",
      "metadata": {
        "colab": {
          "base_uri": "https://localhost:8080/"
        },
        "id": "5TELFtvfVXlg",
        "outputId": "09e399a6-e08d-44e9-8fb4-2276f6a8eaf8"
      },
      "source": [
        "!pip install geetools"
      ],
      "execution_count": 1,
      "outputs": [
        {
          "output_type": "stream",
          "text": [
            "Collecting geetools\n",
            "\u001b[?25l  Downloading https://files.pythonhosted.org/packages/a9/02/91fe9e7f1ec5378ff38fc985564fbc476f41624841bd216ec1002d73b6dd/geetools-0.6.7.tar.gz (69kB)\n",
            "\r\u001b[K     |████▊                           | 10kB 13.7MB/s eta 0:00:01\r\u001b[K     |█████████▌                      | 20kB 16.5MB/s eta 0:00:01\r\u001b[K     |██████████████▏                 | 30kB 10.4MB/s eta 0:00:01\r\u001b[K     |███████████████████             | 40kB 8.8MB/s eta 0:00:01\r\u001b[K     |███████████████████████▋        | 51kB 5.5MB/s eta 0:00:01\r\u001b[K     |████████████████████████████▍   | 61kB 6.1MB/s eta 0:00:01\r\u001b[K     |████████████████████████████████| 71kB 3.5MB/s \n",
            "\u001b[?25hRequirement already satisfied: requests in /usr/local/lib/python3.7/dist-packages (from geetools) (2.23.0)\n",
            "Collecting pyshp\n",
            "\u001b[?25l  Downloading https://files.pythonhosted.org/packages/38/85/fbf87e7aa55103e0d06af756bdbc15cf821fa580414c23142d60a35d4f85/pyshp-2.1.3.tar.gz (219kB)\n",
            "\u001b[K     |████████████████████████████████| 225kB 9.2MB/s \n",
            "\u001b[?25hRequirement already satisfied: pandas in /usr/local/lib/python3.7/dist-packages (from geetools) (1.1.5)\n",
            "Requirement already satisfied: chardet<4,>=3.0.2 in /usr/local/lib/python3.7/dist-packages (from requests->geetools) (3.0.4)\n",
            "Requirement already satisfied: certifi>=2017.4.17 in /usr/local/lib/python3.7/dist-packages (from requests->geetools) (2020.12.5)\n",
            "Requirement already satisfied: idna<3,>=2.5 in /usr/local/lib/python3.7/dist-packages (from requests->geetools) (2.10)\n",
            "Requirement already satisfied: urllib3!=1.25.0,!=1.25.1,<1.26,>=1.21.1 in /usr/local/lib/python3.7/dist-packages (from requests->geetools) (1.24.3)\n",
            "Requirement already satisfied: pytz>=2017.2 in /usr/local/lib/python3.7/dist-packages (from pandas->geetools) (2018.9)\n",
            "Requirement already satisfied: numpy>=1.15.4 in /usr/local/lib/python3.7/dist-packages (from pandas->geetools) (1.19.5)\n",
            "Requirement already satisfied: python-dateutil>=2.7.3 in /usr/local/lib/python3.7/dist-packages (from pandas->geetools) (2.8.1)\n",
            "Requirement already satisfied: six>=1.5 in /usr/local/lib/python3.7/dist-packages (from python-dateutil>=2.7.3->pandas->geetools) (1.15.0)\n",
            "Building wheels for collected packages: geetools, pyshp\n",
            "  Building wheel for geetools (setup.py) ... \u001b[?25l\u001b[?25hdone\n",
            "  Created wheel for geetools: filename=geetools-0.6.7-cp37-none-any.whl size=86656 sha256=6d76a4f0e73a7dc6370bc37df2c30310180fb65af57e6c164d03368577666107\n",
            "  Stored in directory: /root/.cache/pip/wheels/ca/43/50/d2b86a80e0d9258a2bab669d205cebeeaac3662e58e0f18707\n",
            "  Building wheel for pyshp (setup.py) ... \u001b[?25l\u001b[?25hdone\n",
            "  Created wheel for pyshp: filename=pyshp-2.1.3-cp37-none-any.whl size=37264 sha256=2d8b1962fe231062b319a4f66e99c8d104c98d0568917339f4f4925340c6cfa8\n",
            "  Stored in directory: /root/.cache/pip/wheels/76/2b/d4/53e6b9a0fb0a9f9f29664cf82605af8bc81d5ab44d987896dd\n",
            "Successfully built geetools pyshp\n",
            "Installing collected packages: pyshp, geetools\n",
            "Successfully installed geetools-0.6.7 pyshp-2.1.3\n"
          ],
          "name": "stdout"
        }
      ]
    },
    {
      "cell_type": "code",
      "metadata": {
        "id": "sakjYI7yUDwz"
      },
      "source": [
        "from pathlib import Path\n",
        "import os\n",
        "import json\n",
        "import ee\n",
        "from geetools import cloud_mask\n",
        "import requests\n",
        "from datetime import datetime as dt, timedelta\n",
        "import re\n",
        "import numpy as np\n",
        "from google.colab import drive"
      ],
      "execution_count": 2,
      "outputs": []
    },
    {
      "cell_type": "markdown",
      "metadata": {
        "id": "hxcjf94Gkgjc"
      },
      "source": [
        "This next cells connects the notebook to your earth engine account. \n",
        "\n",
        "If you don't have an account yet, first create one in https://signup.earthengine.google.com/"
      ]
    },
    {
      "cell_type": "code",
      "metadata": {
        "colab": {
          "base_uri": "https://localhost:8080/"
        },
        "id": "QB92VtOCVE3T",
        "outputId": "8026a865-b813-4a9f-8631-29f992c68ff8"
      },
      "source": [
        "# Trigger the authentication flow.\n",
        "ee.Authenticate()\n",
        "\n",
        "# Initialize the library.\n",
        "ee.Initialize()"
      ],
      "execution_count": 3,
      "outputs": [
        {
          "output_type": "stream",
          "text": [
            "To authorize access needed by Earth Engine, open the following URL in a web browser and follow the instructions. If the web browser does not start automatically, please manually browse the URL below.\n",
            "\n",
            "    https://accounts.google.com/o/oauth2/auth?client_id=517222506229-vsmmajv00ul0bs7p89v5m89qs8eb9359.apps.googleusercontent.com&scope=https%3A%2F%2Fwww.googleapis.com%2Fauth%2Fearthengine+https%3A%2F%2Fwww.googleapis.com%2Fauth%2Fdevstorage.full_control&redirect_uri=urn%3Aietf%3Awg%3Aoauth%3A2.0%3Aoob&response_type=code&code_challenge=FPbbpOhuGSDeK3f4vnIs2egVKVMqc6Y0D1gMHTiqpsg&code_challenge_method=S256\n",
            "\n",
            "The authorization workflow will generate a code, which you should paste in the box below. \n",
            "Enter verification code: 4/1AY0e-g6o3Q_XJ0hPlgn9KKoFxEyGNErJqB-M0v8y4e6P38sjiqhtaCcDKQk\n",
            "\n",
            "Successfully saved authorization token.\n"
          ],
          "name": "stdout"
        }
      ]
    },
    {
      "cell_type": "markdown",
      "metadata": {
        "id": "J0cbFd8UlcBS"
      },
      "source": [
        "Now that we are linked to GEE, we also need to link out drive to the notebook"
      ]
    },
    {
      "cell_type": "code",
      "metadata": {
        "colab": {
          "base_uri": "https://localhost:8080/"
        },
        "id": "jGDJ6yufeqcw",
        "outputId": "01550ad0-18d5-4a75-f36d-effd5e665dd8"
      },
      "source": [
        "drive.mount(\"/content/drive\")"
      ],
      "execution_count": 4,
      "outputs": [
        {
          "output_type": "stream",
          "text": [
            "Mounted at /content/drive\n"
          ],
          "name": "stdout"
        }
      ]
    },
    {
      "cell_type": "markdown",
      "metadata": {
        "id": "X7YwsWlwnBI1"
      },
      "source": [
        "This is the code provided by Matteo. What it does is: given a geojson, it allows you to download sentinel images, ndvi and global land cover map for small areas (if the polygon is too big it will fail)."
      ]
    },
    {
      "cell_type": "code",
      "metadata": {
        "id": "S4uuiXhMVKVk"
      },
      "source": [
        "\"\"\"\"Functions to retrieve data from Google Earth Engine API\n",
        "The main function to use is get_gee_data() that has 3 modes: \n",
        "1_ sentinel_raw download cloud free sentinel image between given dates\n",
        "and for given bands. \n",
        "2_ global_land_cover download the Copernicus global land cover map at 100m resolution. \n",
        "3_ ndvi downloads the monthly ndvi average between given period (still from sentinel, so only after 2017\n",
        "You need to be registered with google earth engine to use it(Free and quick) \n",
        "Do not choose big area, more than 10 sq km the function will fail. I will update it in the future for bigger areas...\"\n",
        "\"\"\"\n",
        "\n",
        "def mask_clouds(ee_img):\n",
        "    mask_all = cloud_mask.sentinel2()\n",
        "    masked_ee_img = mask_all(ee_img)\n",
        "    return masked_ee_img\n",
        "\n",
        "def aggregate_ndvi(date_list, ndvi_coll):\n",
        "    def simple_aggregate(end_date):\n",
        "        end_date = ee.Date(end_date)\n",
        "        begin_date = ee.Date(end_date).advance(-1, \"month\")\n",
        "        filt_coll = ndvi_coll.filterDate(begin_date, end_date)\n",
        "        return filt_coll.mean().set({\"system:time_start\": begin_date.millis(), \"system:time_end\": end_date.millis()})\n",
        "\n",
        "    merged_ndvi_list = date_list.map(simple_aggregate)\n",
        "    return merged_ndvi_list\n",
        "\n",
        "def get_gee_data(aoi, date_range=[\"2020-05-01\", \"2020-07-01\"], mode=\"sentinel_raw\",\n",
        "                 band_names=[\"B2\", \"B3\", \"B4\", \"B8\"]):\n",
        "    \"\"\" download images from google earth engine as zip file\n",
        "    Parameters\n",
        "    ----------\n",
        "    aoi : area of interest as list of [xcoord,ycoord] points\n",
        "    date_range : list of [start date, end_date] in 'YYYY-MM-DD' format\n",
        "    mode : 'sentinel_raw' for satellite images, 'global_land_cover' for copernicus glc maps, 'ndvi' for vegetation time series\n",
        "    band_names : only for mode == sentinel_raw. List of band to keep from the original image defaults to [\"B2\", \"B3\", \"B4\", \"B8\"]\n",
        "    Returns None. saves zip file with image in data/raw folder\n",
        "    \"\"\"\n",
        "    # Initialize the Earth Engine module.\n",
        "    try:\n",
        "        ee.Initialize()\n",
        "    except ee.ee_exception.EEException:\n",
        "        print(\"MISSING credentials!!!! \\n you have to register to Google earth engine beforehand\")\n",
        "        ee.Authenticate()\n",
        "\n",
        "    # Area of interest as gee object\n",
        "    aoi_obj = ee.Geometry.Polygon([aoi])\n",
        "\n",
        "    print(f\"Downloading {mode} image for coordinates {aoi}\")\n",
        "    # date_range as gee object\n",
        "    start_date = ee.Date(date_range[0])\n",
        "    end_date = ee.Date(date_range[1])\n",
        "    if mode == \"sentinel_raw\":\n",
        "        # get sentinel collection\n",
        "        sent2 = ee.ImageCollection(ee.ImageCollection(\"COPERNICUS/S2_SR\"))\n",
        "        sent_coll = sent2.filterBounds(aoi_obj).filterDate(start_date, end_date)\n",
        "        # apply cloud removal\n",
        "        # map function over collection\n",
        "        cloud_free_coll = sent_coll.map(mask_clouds)\n",
        "        # merge image using mean\n",
        "        fin_img = cloud_free_coll.mean().select(band_names)\n",
        "\n",
        "    # download global land cover\n",
        "    if mode == \"global_land_cover\":\n",
        "        glc = ee.ImageCollection(\"COPERNICUS/Landcover/100m/Proba-V-C3/Global\")\n",
        "        fin_img = ee.Image(glc.toList(10).reverse().get(0)).clip(aoi_obj)\n",
        "\n",
        "    # download ndvi time series\n",
        "    if mode == \"ndvi\":\n",
        "        end_date = dt.now()\n",
        "        start_date = end_date - timedelta(days=365)\n",
        "        start_date_str = start_date.strftime(\"%Y-%m-%d\")\n",
        "        end_date_str = end_date.strftime(\"%Y-%m-%d\")\n",
        "        print(start_date_str, end_date_str)\n",
        "\n",
        "        # get ndvi collection\n",
        "        sent2 = ee.ImageCollection(ee.ImageCollection(\"COPERNICUS/S2_SR\"))\n",
        "        sent_coll = sent2.filterBounds(aoi_obj).filterDate(start_date, end_date)\n",
        "        sent_coll = sent_coll.filterMetadata(\"CLOUDY_PIXEL_PERCENTAGE\", \"less_than\", 30)\n",
        "        cloud_free_coll = sent_coll.map(mask_clouds)\n",
        "        ndvi_coll = cloud_free_coll.map(\n",
        "                            lambda img: img.normalizedDifference([\"B8\", \"B4\"])\\\n",
        "                                   .clip(aoi_obj)\\\n",
        "                                   .set(\"system:time_start\", img.get(\"system:time_start\"))\n",
        "                                   )\n",
        "        # get list of dates 12 month\n",
        "        start_date = ee.Date(ee.List(ndvi_coll.get(\"date_range\")).get(0))\n",
        "        end_date = ee.Date(ee.List(ndvi_coll.get(\"date_range\")).get(1))\n",
        "        diff = end_date.difference(start_date, \"month\").round()\n",
        "        date_seq = ee.List.sequence(1, diff, 1).map(lambda delay: start_date.advance(delay, \"month\") )\n",
        "        print(date_seq.getInfo())\n",
        "        # aggregate monthly ndvi\n",
        "\n",
        "        monthly_ndvi_list = aggregate_ndvi(date_seq, ndvi_coll)\n",
        "\n",
        "        fin_img = ee.ImageCollection.fromImages(monthly_ndvi_list).toBands()\n",
        "        print(fin_img.getInfo())\n",
        "\n",
        "        # download image\n",
        "    link = fin_img.getDownloadURL({\n",
        "        'scale': 10,\n",
        "        'crs': 'EPSG:4326',\n",
        "        'fileFormat': 'GeoTIFF',\n",
        "        'region': aoi_obj})\n",
        "    return link\n",
        "\n",
        "def download_data_from_link(link, area_name, mode, data_parent_path=None):\n",
        "    if not data_parent_path:\n",
        "        data_parent_path = Path(\"..\", \"..\", \"data\", \"raw\")\n",
        "\n",
        "    response = requests.get(link)\n",
        "    if not response.status_code == 200:\n",
        "        print(f\"problem retrieving file from the link:\\n {link})!\")\n",
        "        return None\n",
        "    # set output filename\n",
        "\n",
        "    out_file = data_parent_path / str(area_name + \"_\" + mode + \".zip\")\n",
        "    with open(out_file, \"wb\") as f:\n",
        "        f.write(response.content)\n",
        "    del response\n",
        "    if os.path.exists(out_file):\n",
        "        print(f\"COMPLETED! image downloaded as zip file in \\n {out_file}\\n\")\n",
        "    return None\n",
        "\n",
        "\n",
        "def download_dataset(aoi_path, data_parent_path=None, get_sent2=True, get_glc=True, get_ndvi=True):\n",
        "    \"\"\" Retrieves input and target data from gee\n",
        "    to train ml model\"\"\"\n",
        "    with open(aoi_path) as f:\n",
        "        coords = json.load(f)\n",
        "    coords_list = coords['features']\n",
        "    print(f\" found {len(coords_list)} area of interest\")\n",
        "    # cycle through areas to download all of them\n",
        "    timestamp = re.sub(\"[^0-9]\", \"\", dt.now().isoformat())\n",
        "    for n, c_dict in enumerate(coords_list):\n",
        "        c = c_dict[\"geometry\"][\"coordinates\"][0]\n",
        "        print(f\" \\n downloading data for area {n}\")\n",
        "\n",
        "        # if needed for area identification add this \"_\".join([str(abs(round(a[0]*10e2))) + str(abs(round(a[1]*10e2))) for a in c])\n",
        "        area_name = timestamp + \"_\" + str(n)\n",
        "        if get_sent2:\n",
        "            link = get_gee_data(aoi=c, mode=\"sentinel_raw\")\n",
        "            download_data_from_link(link, area_name, mode=\"sentinel_raw\", data_parent_path=data_parent_path)\n",
        "        if get_glc:\n",
        "            link2 = get_gee_data(aoi=c, mode=\"global_land_cover\")\n",
        "            download_data_from_link(link2, area_name,mode=\"global_land_cover\", data_parent_path=data_parent_path)\n",
        "        if get_ndvi:\n",
        "            link3 = get_gee_data(aoi=c, mode=\"ndvi\")\n",
        "            download_data_from_link(link3, area_name, mode=\"ndvi\", data_parent_path=data_parent_path)\n",
        "    return timestamp"
      ],
      "execution_count": 7,
      "outputs": []
    },
    {
      "cell_type": "markdown",
      "metadata": {
        "id": "6DRUcOmxjWb7"
      },
      "source": [
        "Now, all we need to do is define an area of interest, as a list of coordinates. You can draw one using QGis, and save as geojson. If you're not used to GIS, you can also draw your AOI on http://geojson.io/, and then copy and paste the coordinates from the geojson on the cell bellow. Be careful not to draw an area too big!"
      ]
    },
    {
      "cell_type": "code",
      "metadata": {
        "id": "k-PHkmJTV1EJ"
      },
      "source": [
        "aoi = [ [ -9.044288326125624, 51.877416845948957 ], [ -9.064332525991922, 51.877302919413232 ], [ -9.064211073895905, 51.855934674768655 ], [ -9.044166874029592, 51.85604860130438 ], [ -9.044288326125624, 51.877416845948957 ] ]"
      ],
      "execution_count": 8,
      "outputs": []
    },
    {
      "cell_type": "markdown",
      "metadata": {
        "id": "h8bSaHIyo-JN"
      },
      "source": [
        "Passing the aoi to the get_gee_data returns a link"
      ]
    },
    {
      "cell_type": "code",
      "metadata": {
        "colab": {
          "base_uri": "https://localhost:8080/"
        },
        "id": "n35w9Howag83",
        "outputId": "fa65c45b-7cb3-41fd-dcf3-2fd323e4e8fd"
      },
      "source": [
        "link = get_gee_data(aoi)"
      ],
      "execution_count": 9,
      "outputs": [
        {
          "output_type": "stream",
          "text": [
            "Downloading sentinel_raw image for coordinates [[-9.044288326125624, 51.87741684594896], [-9.064332525991922, 51.87730291941323], [-9.064211073895905, 51.855934674768655], [-9.044166874029592, 51.85604860130438], [-9.044288326125624, 51.87741684594896]]\n"
          ],
          "name": "stdout"
        }
      ]
    },
    {
      "cell_type": "markdown",
      "metadata": {
        "id": "fd3WagvaqAZJ"
      },
      "source": [
        "That will be downloaded on the folder we defined below."
      ]
    },
    {
      "cell_type": "code",
      "metadata": {
        "id": "HpiTcuq8fO9x"
      },
      "source": [
        "parent_path = Path('/content/drive/MyDrive/omdena')"
      ],
      "execution_count": 10,
      "outputs": []
    },
    {
      "cell_type": "markdown",
      "metadata": {
        "id": "HEjOEZJPqK0U"
      },
      "source": [
        "Once we pass it to the downloader function"
      ]
    },
    {
      "cell_type": "code",
      "metadata": {
        "colab": {
          "base_uri": "https://localhost:8080/"
        },
        "id": "WuaXVt5eazih",
        "outputId": "321832f8-1fc0-4cff-e4b5-08f43e4015ee"
      },
      "source": [
        " download_data_from_link(link,'ireland_test', 'sentinel_raw', parent_path)"
      ],
      "execution_count": 12,
      "outputs": [
        {
          "output_type": "stream",
          "text": [
            "COMPLETED! image downloaded as zip file in \n",
            " /content/drive/MyDrive/omdena/ireland_test_sentinel_raw.zip\n",
            "\n"
          ],
          "name": "stdout"
        }
      ]
    },
    {
      "cell_type": "markdown",
      "metadata": {
        "id": "2XNzdshLsBzk"
      },
      "source": [
        "And now you have downloaded your first batch of satellite images from google earth engine, congratulations!"
      ]
    }
  ]
}